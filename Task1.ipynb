{
  "nbformat": 4,
  "nbformat_minor": 0,
  "metadata": {
    "colab": {
      "provenance": [],
      "gpuType": "T4"
    },
    "kernelspec": {
      "name": "python3",
      "display_name": "Python 3"
    },
    "language_info": {
      "name": "python"
    },
    "accelerator": "GPU"
  },
  "cells": [
    {
      "cell_type": "code",
      "execution_count": 2,
      "metadata": {
        "id": "bWeOCuVJCuIk"
      },
      "outputs": [],
      "source": [
        "# Import all modules.\n",
        "import numpy as np\n",
        "import pandas as pd\n",
        "import os\n",
        "import cv2\n",
        "import numpy as np\n",
        "import pandas as pd\n",
        "from sklearn.model_selection import train_test_split\n",
        "from tensorflow.keras import layers, models\n"
      ]
    },
    {
      "cell_type": "code",
      "source": [
        "csv_pa=pd.read_csv(\"/content/role_challenge_dataset_ground_truth - role_challenge_dataset_ground_truth.csv.csv\")\n",
        "csv_pa.head()"
      ],
      "metadata": {
        "colab": {
          "base_uri": "https://localhost:8080/",
          "height": 206
        },
        "id": "Ky395jE8TRlJ",
        "outputId": "d627833e-daab-4b07-dbb9-3dd5386b2ea2"
      },
      "execution_count": 3,
      "outputs": [
        {
          "output_type": "execute_result",
          "data": {
            "text/plain": [
              "   image_name  ofd_1_x  ofd_1_y  ofd_2_x  ofd_2_y  bpd_1_x  bpd_1_y  bpd_2_x  \\\n",
              "0  000_HC.png      361       12      339      530      481       16      664   \n",
              "1  001_HC.png      441      331      368      308      297      247      534   \n",
              "2  002_HC.png      318      374      154      406      481      158      558   \n",
              "3  003_HC.png      424      105      407      462      305      349      547   \n",
              "4  004_HC.png      300      277      611      534       53      452      494   \n",
              "\n",
              "   bpd_2_y  \n",
              "0      318  \n",
              "1      142  \n",
              "2      215  \n",
              "3      363  \n",
              "4      308  "
            ],
            "text/html": [
              "\n",
              "  <div id=\"df-aabdd01d-03de-42f7-b0ba-12ce619583f0\" class=\"colab-df-container\">\n",
              "    <div>\n",
              "<style scoped>\n",
              "    .dataframe tbody tr th:only-of-type {\n",
              "        vertical-align: middle;\n",
              "    }\n",
              "\n",
              "    .dataframe tbody tr th {\n",
              "        vertical-align: top;\n",
              "    }\n",
              "\n",
              "    .dataframe thead th {\n",
              "        text-align: right;\n",
              "    }\n",
              "</style>\n",
              "<table border=\"1\" class=\"dataframe\">\n",
              "  <thead>\n",
              "    <tr style=\"text-align: right;\">\n",
              "      <th></th>\n",
              "      <th>image_name</th>\n",
              "      <th>ofd_1_x</th>\n",
              "      <th>ofd_1_y</th>\n",
              "      <th>ofd_2_x</th>\n",
              "      <th>ofd_2_y</th>\n",
              "      <th>bpd_1_x</th>\n",
              "      <th>bpd_1_y</th>\n",
              "      <th>bpd_2_x</th>\n",
              "      <th>bpd_2_y</th>\n",
              "    </tr>\n",
              "  </thead>\n",
              "  <tbody>\n",
              "    <tr>\n",
              "      <th>0</th>\n",
              "      <td>000_HC.png</td>\n",
              "      <td>361</td>\n",
              "      <td>12</td>\n",
              "      <td>339</td>\n",
              "      <td>530</td>\n",
              "      <td>481</td>\n",
              "      <td>16</td>\n",
              "      <td>664</td>\n",
              "      <td>318</td>\n",
              "    </tr>\n",
              "    <tr>\n",
              "      <th>1</th>\n",
              "      <td>001_HC.png</td>\n",
              "      <td>441</td>\n",
              "      <td>331</td>\n",
              "      <td>368</td>\n",
              "      <td>308</td>\n",
              "      <td>297</td>\n",
              "      <td>247</td>\n",
              "      <td>534</td>\n",
              "      <td>142</td>\n",
              "    </tr>\n",
              "    <tr>\n",
              "      <th>2</th>\n",
              "      <td>002_HC.png</td>\n",
              "      <td>318</td>\n",
              "      <td>374</td>\n",
              "      <td>154</td>\n",
              "      <td>406</td>\n",
              "      <td>481</td>\n",
              "      <td>158</td>\n",
              "      <td>558</td>\n",
              "      <td>215</td>\n",
              "    </tr>\n",
              "    <tr>\n",
              "      <th>3</th>\n",
              "      <td>003_HC.png</td>\n",
              "      <td>424</td>\n",
              "      <td>105</td>\n",
              "      <td>407</td>\n",
              "      <td>462</td>\n",
              "      <td>305</td>\n",
              "      <td>349</td>\n",
              "      <td>547</td>\n",
              "      <td>363</td>\n",
              "    </tr>\n",
              "    <tr>\n",
              "      <th>4</th>\n",
              "      <td>004_HC.png</td>\n",
              "      <td>300</td>\n",
              "      <td>277</td>\n",
              "      <td>611</td>\n",
              "      <td>534</td>\n",
              "      <td>53</td>\n",
              "      <td>452</td>\n",
              "      <td>494</td>\n",
              "      <td>308</td>\n",
              "    </tr>\n",
              "  </tbody>\n",
              "</table>\n",
              "</div>\n",
              "    <div class=\"colab-df-buttons\">\n",
              "\n",
              "  <div class=\"colab-df-container\">\n",
              "    <button class=\"colab-df-convert\" onclick=\"convertToInteractive('df-aabdd01d-03de-42f7-b0ba-12ce619583f0')\"\n",
              "            title=\"Convert this dataframe to an interactive table.\"\n",
              "            style=\"display:none;\">\n",
              "\n",
              "  <svg xmlns=\"http://www.w3.org/2000/svg\" height=\"24px\" viewBox=\"0 -960 960 960\">\n",
              "    <path d=\"M120-120v-720h720v720H120Zm60-500h600v-160H180v160Zm220 220h160v-160H400v160Zm0 220h160v-160H400v160ZM180-400h160v-160H180v160Zm440 0h160v-160H620v160ZM180-180h160v-160H180v160Zm440 0h160v-160H620v160Z\"/>\n",
              "  </svg>\n",
              "    </button>\n",
              "\n",
              "  <style>\n",
              "    .colab-df-container {\n",
              "      display:flex;\n",
              "      gap: 12px;\n",
              "    }\n",
              "\n",
              "    .colab-df-convert {\n",
              "      background-color: #E8F0FE;\n",
              "      border: none;\n",
              "      border-radius: 50%;\n",
              "      cursor: pointer;\n",
              "      display: none;\n",
              "      fill: #1967D2;\n",
              "      height: 32px;\n",
              "      padding: 0 0 0 0;\n",
              "      width: 32px;\n",
              "    }\n",
              "\n",
              "    .colab-df-convert:hover {\n",
              "      background-color: #E2EBFA;\n",
              "      box-shadow: 0px 1px 2px rgba(60, 64, 67, 0.3), 0px 1px 3px 1px rgba(60, 64, 67, 0.15);\n",
              "      fill: #174EA6;\n",
              "    }\n",
              "\n",
              "    .colab-df-buttons div {\n",
              "      margin-bottom: 4px;\n",
              "    }\n",
              "\n",
              "    [theme=dark] .colab-df-convert {\n",
              "      background-color: #3B4455;\n",
              "      fill: #D2E3FC;\n",
              "    }\n",
              "\n",
              "    [theme=dark] .colab-df-convert:hover {\n",
              "      background-color: #434B5C;\n",
              "      box-shadow: 0px 1px 3px 1px rgba(0, 0, 0, 0.15);\n",
              "      filter: drop-shadow(0px 1px 2px rgba(0, 0, 0, 0.3));\n",
              "      fill: #FFFFFF;\n",
              "    }\n",
              "  </style>\n",
              "\n",
              "    <script>\n",
              "      const buttonEl =\n",
              "        document.querySelector('#df-aabdd01d-03de-42f7-b0ba-12ce619583f0 button.colab-df-convert');\n",
              "      buttonEl.style.display =\n",
              "        google.colab.kernel.accessAllowed ? 'block' : 'none';\n",
              "\n",
              "      async function convertToInteractive(key) {\n",
              "        const element = document.querySelector('#df-aabdd01d-03de-42f7-b0ba-12ce619583f0');\n",
              "        const dataTable =\n",
              "          await google.colab.kernel.invokeFunction('convertToInteractive',\n",
              "                                                    [key], {});\n",
              "        if (!dataTable) return;\n",
              "\n",
              "        const docLinkHtml = 'Like what you see? Visit the ' +\n",
              "          '<a target=\"_blank\" href=https://colab.research.google.com/notebooks/data_table.ipynb>data table notebook</a>'\n",
              "          + ' to learn more about interactive tables.';\n",
              "        element.innerHTML = '';\n",
              "        dataTable['output_type'] = 'display_data';\n",
              "        await google.colab.output.renderOutput(dataTable, element);\n",
              "        const docLink = document.createElement('div');\n",
              "        docLink.innerHTML = docLinkHtml;\n",
              "        element.appendChild(docLink);\n",
              "      }\n",
              "    </script>\n",
              "  </div>\n",
              "\n",
              "\n",
              "<div id=\"df-59743272-ae53-4bd1-a04f-7af40a3a3593\">\n",
              "  <button class=\"colab-df-quickchart\" onclick=\"quickchart('df-59743272-ae53-4bd1-a04f-7af40a3a3593')\"\n",
              "            title=\"Suggest charts\"\n",
              "            style=\"display:none;\">\n",
              "\n",
              "<svg xmlns=\"http://www.w3.org/2000/svg\" height=\"24px\"viewBox=\"0 0 24 24\"\n",
              "     width=\"24px\">\n",
              "    <g>\n",
              "        <path d=\"M19 3H5c-1.1 0-2 .9-2 2v14c0 1.1.9 2 2 2h14c1.1 0 2-.9 2-2V5c0-1.1-.9-2-2-2zM9 17H7v-7h2v7zm4 0h-2V7h2v10zm4 0h-2v-4h2v4z\"/>\n",
              "    </g>\n",
              "</svg>\n",
              "  </button>\n",
              "\n",
              "<style>\n",
              "  .colab-df-quickchart {\n",
              "      --bg-color: #E8F0FE;\n",
              "      --fill-color: #1967D2;\n",
              "      --hover-bg-color: #E2EBFA;\n",
              "      --hover-fill-color: #174EA6;\n",
              "      --disabled-fill-color: #AAA;\n",
              "      --disabled-bg-color: #DDD;\n",
              "  }\n",
              "\n",
              "  [theme=dark] .colab-df-quickchart {\n",
              "      --bg-color: #3B4455;\n",
              "      --fill-color: #D2E3FC;\n",
              "      --hover-bg-color: #434B5C;\n",
              "      --hover-fill-color: #FFFFFF;\n",
              "      --disabled-bg-color: #3B4455;\n",
              "      --disabled-fill-color: #666;\n",
              "  }\n",
              "\n",
              "  .colab-df-quickchart {\n",
              "    background-color: var(--bg-color);\n",
              "    border: none;\n",
              "    border-radius: 50%;\n",
              "    cursor: pointer;\n",
              "    display: none;\n",
              "    fill: var(--fill-color);\n",
              "    height: 32px;\n",
              "    padding: 0;\n",
              "    width: 32px;\n",
              "  }\n",
              "\n",
              "  .colab-df-quickchart:hover {\n",
              "    background-color: var(--hover-bg-color);\n",
              "    box-shadow: 0 1px 2px rgba(60, 64, 67, 0.3), 0 1px 3px 1px rgba(60, 64, 67, 0.15);\n",
              "    fill: var(--button-hover-fill-color);\n",
              "  }\n",
              "\n",
              "  .colab-df-quickchart-complete:disabled,\n",
              "  .colab-df-quickchart-complete:disabled:hover {\n",
              "    background-color: var(--disabled-bg-color);\n",
              "    fill: var(--disabled-fill-color);\n",
              "    box-shadow: none;\n",
              "  }\n",
              "\n",
              "  .colab-df-spinner {\n",
              "    border: 2px solid var(--fill-color);\n",
              "    border-color: transparent;\n",
              "    border-bottom-color: var(--fill-color);\n",
              "    animation:\n",
              "      spin 1s steps(1) infinite;\n",
              "  }\n",
              "\n",
              "  @keyframes spin {\n",
              "    0% {\n",
              "      border-color: transparent;\n",
              "      border-bottom-color: var(--fill-color);\n",
              "      border-left-color: var(--fill-color);\n",
              "    }\n",
              "    20% {\n",
              "      border-color: transparent;\n",
              "      border-left-color: var(--fill-color);\n",
              "      border-top-color: var(--fill-color);\n",
              "    }\n",
              "    30% {\n",
              "      border-color: transparent;\n",
              "      border-left-color: var(--fill-color);\n",
              "      border-top-color: var(--fill-color);\n",
              "      border-right-color: var(--fill-color);\n",
              "    }\n",
              "    40% {\n",
              "      border-color: transparent;\n",
              "      border-right-color: var(--fill-color);\n",
              "      border-top-color: var(--fill-color);\n",
              "    }\n",
              "    60% {\n",
              "      border-color: transparent;\n",
              "      border-right-color: var(--fill-color);\n",
              "    }\n",
              "    80% {\n",
              "      border-color: transparent;\n",
              "      border-right-color: var(--fill-color);\n",
              "      border-bottom-color: var(--fill-color);\n",
              "    }\n",
              "    90% {\n",
              "      border-color: transparent;\n",
              "      border-bottom-color: var(--fill-color);\n",
              "    }\n",
              "  }\n",
              "</style>\n",
              "\n",
              "  <script>\n",
              "    async function quickchart(key) {\n",
              "      const quickchartButtonEl =\n",
              "        document.querySelector('#' + key + ' button');\n",
              "      quickchartButtonEl.disabled = true;  // To prevent multiple clicks.\n",
              "      quickchartButtonEl.classList.add('colab-df-spinner');\n",
              "      try {\n",
              "        const charts = await google.colab.kernel.invokeFunction(\n",
              "            'suggestCharts', [key], {});\n",
              "      } catch (error) {\n",
              "        console.error('Error during call to suggestCharts:', error);\n",
              "      }\n",
              "      quickchartButtonEl.classList.remove('colab-df-spinner');\n",
              "      quickchartButtonEl.classList.add('colab-df-quickchart-complete');\n",
              "    }\n",
              "    (() => {\n",
              "      let quickchartButtonEl =\n",
              "        document.querySelector('#df-59743272-ae53-4bd1-a04f-7af40a3a3593 button');\n",
              "      quickchartButtonEl.style.display =\n",
              "        google.colab.kernel.accessAllowed ? 'block' : 'none';\n",
              "    })();\n",
              "  </script>\n",
              "</div>\n",
              "\n",
              "    </div>\n",
              "  </div>\n"
            ]
          },
          "metadata": {},
          "execution_count": 3
        }
      ]
    },
    {
      "cell_type": "code",
      "source": [
        "# Check for null values.\n",
        "csv_pa.isnull().sum()"
      ],
      "metadata": {
        "colab": {
          "base_uri": "https://localhost:8080/"
        },
        "id": "MgyPKKfETs5C",
        "outputId": "e1675b70-11fb-42cf-f52f-9617544de8c9"
      },
      "execution_count": 4,
      "outputs": [
        {
          "output_type": "execute_result",
          "data": {
            "text/plain": [
              "image_name    0\n",
              "ofd_1_x       0\n",
              "ofd_1_y       0\n",
              "ofd_2_x       0\n",
              "ofd_2_y       0\n",
              "bpd_1_x       0\n",
              "bpd_1_y       0\n",
              "bpd_2_x       0\n",
              "bpd_2_y       0\n",
              "dtype: int64"
            ]
          },
          "metadata": {},
          "execution_count": 4
        }
      ]
    },
    {
      "cell_type": "code",
      "source": [
        "csv_pa.shape"
      ],
      "metadata": {
        "colab": {
          "base_uri": "https://localhost:8080/"
        },
        "id": "FcMo5Rz0T1dM",
        "outputId": "394ac690-8925-4ca5-bc71-437716d1a6bc"
      },
      "execution_count": 5,
      "outputs": [
        {
          "output_type": "execute_result",
          "data": {
            "text/plain": [
              "(317, 9)"
            ]
          },
          "metadata": {},
          "execution_count": 5
        }
      ]
    },
    {
      "cell_type": "code",
      "source": [
        "# Working on zip file.\n",
        "# My idea is to create folder from zip file as to easy in use.\n",
        "\n",
        "import zipfile\n",
        "\n",
        "# Specify the name of the uploaded zip file\n",
        "zip_file= \"/content/New assi.zip\"\n",
        "\n",
        "# Specify the extraction directory\n",
        "extract_dir = \"my_images\"\n",
        "\n",
        "# Create the extraction directory if it doesn't exist\n",
        "if not os.path.exists(extract_dir):\n",
        "    os.makedirs(extract_dir)\n",
        "\n",
        "# Extract the contents of the zip file\n",
        "with zipfile.ZipFile(zip_file, 'r') as zip_ref:\n",
        "    zip_ref.extractall(extract_dir)"
      ],
      "metadata": {
        "id": "3olljLPsT6UC"
      },
      "execution_count": 6,
      "outputs": []
    },
    {
      "cell_type": "markdown",
      "source": [
        "ITS END RESULT IS TO CREATE A FOLDER MY_IMAGES IN WHICH ALL MY IMAGES ARE THERE."
      ],
      "metadata": {
        "id": "E2H5cmMoUbzw"
      }
    },
    {
      "cell_type": "code",
      "source": [
        "# Set the path to your images folder\n",
        "images_path = \"/content/my_images/images\""
      ],
      "metadata": {
        "id": "DrOYd-CLUoA9"
      },
      "execution_count": 7,
      "outputs": []
    },
    {
      "cell_type": "code",
      "source": [
        "# Function to read and preprocess images\n",
        "def read_and_preprocess_image(image_path):\n",
        "    pic = cv2.imread(os.path.join(images_path, image_path))\n",
        "    if pic is not None:\n",
        "        # Resize the image to (800, 540) or any desired size  But i checked all my images are in (800,540) shape,but for safety.\n",
        "        pic = cv2.resize(pic, (800, 540))\n",
        "        # Normalize the pixel values to the range [0, 1] and convert to float32\n",
        "        pic = pic.astype('float32') / 255.0\n",
        "    return pic"
      ],
      "metadata": {
        "id": "ToendUJyUy7m"
      },
      "execution_count": 11,
      "outputs": []
    },
    {
      "cell_type": "code",
      "source": [
        "#Now its time to read images.\n",
        "image_name = csv_pa['image_name']\n",
        "images = []\n",
        "\n",
        "for name in image_name:\n",
        "    process_image = read_and_preprocess_image(name)\n",
        "    images.append(process_image)\n",
        "\n",
        "images = np.array(images)\n",
        "\n",
        "marks=csv_pa.iloc[:,1:].to_numpy()\n"
      ],
      "metadata": {
        "id": "HWvTVw2eWkyT"
      },
      "execution_count": 13,
      "outputs": []
    },
    {
      "cell_type": "code",
      "source": [
        "# Now I wan't to ensure that all images are valid means not null images.\n",
        "valid_indi = []\n",
        "\n",
        "for i, img in enumerate(images):\n",
        "    if img is not None:\n",
        "        valid_indi.append(i)\n",
        "\n"
      ],
      "metadata": {
        "id": "R_flpeOeWklO"
      },
      "execution_count": 15,
      "outputs": []
    },
    {
      "cell_type": "code",
      "source": [
        "# Now i want to convert my marks and my images to a float datatype to ensure that all are in same datatype.\n",
        "images = images[valid_indi].astype(np.float32)  # Convert to float32\n",
        "marks = marks[valid_indi].astype(np.float32)  # Convert to float32"
      ],
      "metadata": {
        "id": "hkKq2f6mYpLn"
      },
      "execution_count": 16,
      "outputs": []
    },
    {
      "cell_type": "code",
      "source": [
        "# Checking the shape\n",
        "marks.shape"
      ],
      "metadata": {
        "colab": {
          "base_uri": "https://localhost:8080/"
        },
        "id": "PUZmlsQXZDCA",
        "outputId": "e554518d-a79a-4ede-e9e2-a53b341a8c45"
      },
      "execution_count": 17,
      "outputs": [
        {
          "output_type": "execute_result",
          "data": {
            "text/plain": [
              "(317, 8)"
            ]
          },
          "metadata": {},
          "execution_count": 17
        }
      ]
    },
    {
      "cell_type": "markdown",
      "source": [
        "# NOTE I simply cutoff some data because my computation power exceed ."
      ],
      "metadata": {
        "id": "uKfKDgUKZMBc"
      }
    },
    {
      "cell_type": "code",
      "source": [
        "# Now its time to split my data into train and test.\n",
        "X_train, X_test, y_train, y_test = train_test_split(images, marks, test_size=0.3, random_state=42)"
      ],
      "metadata": {
        "id": "SW40EhaeZIOH"
      },
      "execution_count": 18,
      "outputs": []
    },
    {
      "cell_type": "code",
      "source": [
        "# Build my model artitecture.\n",
        "model=models.Sequential()\n",
        "model.add(layers.Conv2D(30, (3, 3), activation='relu', input_shape=(540, 800, 3)))\n",
        "model.add(layers.MaxPooling2D((2, 2)))\n",
        "model.add(layers.Conv2D(60, (3, 3), activation='relu'))\n",
        "model.add(layers.MaxPooling2D((2, 2)))\n",
        "model.add(layers.Conv2D(126, (3, 3), activation='relu'))\n",
        "model.add(layers.MaxPooling2D((2, 2)))\n",
        "model.add(layers.Flatten())\n",
        "\n",
        "# Dense layers.\n",
        "model.add(layers.Dense(250, activation='relu'))\n",
        "model.add(layers.Dense(126, activation='relu'))\n",
        "model.add(layers.Dense(62, activation='relu'))\n",
        "model.add(layers.Dense(8))        # 4 landmarks with x and y coordinates\n",
        "# Compile\n",
        "# Compile the model\n",
        "model.compile(optimizer='adam', loss='mean_squared_error', metrics=['mse'])"
      ],
      "metadata": {
        "id": "jW0ndmo0Zs8d"
      },
      "execution_count": 19,
      "outputs": []
    },
    {
      "cell_type": "markdown",
      "source": [
        "Unfortunately my system ram is not too high so i didn't run for higher epochs."
      ],
      "metadata": {
        "id": "urRfjL6BaqxY"
      }
    },
    {
      "cell_type": "code",
      "source": [
        "# Train the model\n",
        "model.fit(X_train, y_train, epochs=5, validation_data=(X_test, y_test))"
      ],
      "metadata": {
        "colab": {
          "base_uri": "https://localhost:8080/"
        },
        "id": "9nt34S_ua9gU",
        "outputId": "ff4939ab-32ed-4772-f3ea-8764532f2152"
      },
      "execution_count": 20,
      "outputs": [
        {
          "output_type": "stream",
          "name": "stdout",
          "text": [
            "Epoch 1/5\n",
            "7/7 [==============================] - 31s 2s/step - loss: 75555.6641 - mse: 75555.6641 - val_loss: 21626.7520 - val_mse: 21626.7520\n",
            "Epoch 2/5\n",
            "7/7 [==============================] - 3s 511ms/step - loss: 23628.2090 - mse: 23628.2090 - val_loss: 20551.1289 - val_mse: 20551.1289\n",
            "Epoch 3/5\n",
            "7/7 [==============================] - 4s 531ms/step - loss: 21288.9199 - mse: 21288.9199 - val_loss: 15165.5830 - val_mse: 15165.5830\n",
            "Epoch 4/5\n",
            "7/7 [==============================] - 4s 537ms/step - loss: 17755.0000 - mse: 17755.0000 - val_loss: 17822.7559 - val_mse: 17822.7559\n",
            "Epoch 5/5\n",
            "7/7 [==============================] - 4s 534ms/step - loss: 15242.4385 - mse: 15242.4385 - val_loss: 13573.3896 - val_mse: 13573.3896\n"
          ]
        },
        {
          "output_type": "execute_result",
          "data": {
            "text/plain": [
              "<keras.src.callbacks.History at 0x7f167db4bf10>"
            ]
          },
          "metadata": {},
          "execution_count": 20
        }
      ]
    },
    {
      "cell_type": "markdown",
      "source": [
        "As we observe loss is high but if we run upto 100 or may be more with earlystopping then result will be good."
      ],
      "metadata": {
        "id": "RswQpZuobgIc"
      }
    },
    {
      "cell_type": "code",
      "source": [
        "import matplotlib.pyplot as plt\n",
        "\n",
        "# Make predictions on the test set\n",
        "predictions = model.predict(X_test)\n"
      ],
      "metadata": {
        "colab": {
          "base_uri": "https://localhost:8080/"
        },
        "id": "Qkg3TIhpcMFK",
        "outputId": "914a670c-1256-47a3-c595-2080b748ef5c"
      },
      "execution_count": 23,
      "outputs": [
        {
          "output_type": "stream",
          "name": "stdout",
          "text": [
            "3/3 [==============================] - 1s 158ms/step\n"
          ]
        }
      ]
    },
    {
      "cell_type": "code",
      "source": [
        "# Randomly select 10 indices for visualization\n",
        "sample_indi = np.random.choice(len(X_test), size=10, replace=False)"
      ],
      "metadata": {
        "id": "M91nclBxcPK5"
      },
      "execution_count": 25,
      "outputs": []
    },
    {
      "cell_type": "code",
      "source": [
        "# Plot it.\n",
        "for i, sample_index in enumerate(sample_indi):\n",
        "    original_image = X_test[sample_index]\n",
        "    marks_true = y_test[sample_index]\n",
        "    marks_predicted = predictions[sample_index]\n",
        "\n",
        "    plt.subplot(2, 5, i + 1)\n",
        "    plt.imshow(original_image)\n",
        "    plt.scatter(marks_true[0::2], marks_true[1::2], c='r', marker='o', label='True Landmarks')\n",
        "    plt.scatter(marks_predicted[0::2], marks_predicted[1::2], c='b', marker='o', label='Predicted Landmarks')\n",
        "    plt.title(f\"Sample {i+1}\")\n",
        "\n",
        "plt.tight_layout()\n",
        "plt.show()"
      ],
      "metadata": {
        "colab": {
          "base_uri": "https://localhost:8080/",
          "height": 333
        },
        "id": "c9LYCwH5ccco",
        "outputId": "f24b32d7-bb2e-4cec-c242-b2e2bc9e0b3c"
      },
      "execution_count": 26,
      "outputs": [
        {
          "output_type": "display_data",
          "data": {
            "text/plain": [
              "<Figure size 640x480 with 10 Axes>"
            ],
            "image/png": "[encoded data removed]"
          },
          "metadata": {}
        }
      ]
    },
    {
      "cell_type": "markdown",
      "source": [
        "NOTE: If we train with higher epochs with proper hyperparameter selection this model works good"
      ],
      "metadata": {
        "id": "245fYCBRdRCQ"
      }
    },
    {
      "cell_type": "code",
      "source": [],
      "metadata": {
        "id": "0GodRm2NdhOy"
      },
      "execution_count": null,
      "outputs": []
    }
  ]
}